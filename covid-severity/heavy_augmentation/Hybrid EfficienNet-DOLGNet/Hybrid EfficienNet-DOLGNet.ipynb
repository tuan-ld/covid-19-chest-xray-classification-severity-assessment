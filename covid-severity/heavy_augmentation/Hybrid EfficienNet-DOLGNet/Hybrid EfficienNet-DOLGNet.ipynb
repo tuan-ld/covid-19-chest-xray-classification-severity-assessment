{
 "cells": [
  {
   "cell_type": "markdown",
   "id": "fixed-minimum",
   "metadata": {
    "papermill": {
     "duration": 0.049972,
     "end_time": "2022-01-10T02:30:34.893223",
     "exception": false,
     "start_time": "2022-01-10T02:30:34.843251",
     "status": "completed"
    },
    "tags": []
   },
   "source": [
    "## **Chest X-ray classification between Covid, pneumonia, normal using GoogleNet**\n",
    "\n",
    "+ **About**: \n",
    "    + This notebook contains code to run experiments for paper: Covid-19 Chest X-ray classification and severity assessment using Convolutional and Transformer Neural Networks \n",
    "\n",
    "+ **Datasets**:\n",
    "    + The COVID CXR dataset\n",
    "    + The Chest Xray Pneumonia dataset \n",
    "\n",
    "\n",
    "+ **Classes**: \n",
    "    + Normal\n",
    "    + Pneumonia\n",
    "    + Covid_19\n",
    "\n",
    "+ **Architecture**: \n",
    "    + GoogLeNet\n",
    "\n"
   ]
  },
  {
   "cell_type": "code",
   "execution_count": 1,
   "id": "legendary-iceland",
   "metadata": {
    "papermill": {
     "duration": 0.222872,
     "end_time": "2022-01-10T02:30:35.163911",
     "exception": false,
     "start_time": "2022-01-10T02:30:34.941039",
     "status": "completed"
    },
    "tags": []
   },
   "outputs": [
    {
     "name": "stdout",
     "output_type": "stream",
     "text": [
      "Windows-10-10.0.19043-SP0\n"
     ]
    }
   ],
   "source": [
    "import os\n",
    "import cv2\n",
    "import platform\n",
    "import numpy as np\n",
    "import pandas as pd\n",
    "import random\n",
    "import matplotlib.pyplot as plt\n",
    "from IPython.display import clear_output\n",
    "\n",
    "os.environ['PYTHONHASHSEED'] = '73'\n",
    "\n",
    "seed = 73\n",
    "random.seed(seed)\n",
    "np.random.seed(seed)\n",
    "\n",
    "print(platform.platform())\n",
    "%matplotlib inline"
   ]
  },
  {
   "cell_type": "code",
   "execution_count": 2,
   "id": "84fdeacf",
   "metadata": {
    "tags": []
   },
   "outputs": [],
   "source": [
    "three_classes_covid_xray_balanced = \"/Users/MCSP_Lab/Desktop/covidx-dataset/covidx-cxr2/datasets/severity_dataset/joined_RALO_Brook/train\""
   ]
  },
  {
   "cell_type": "code",
   "execution_count": 3,
   "id": "c8fb7866",
   "metadata": {
    "tags": []
   },
   "outputs": [
    {
     "name": "stdout",
     "output_type": "stream",
     "text": [
      "> train_covidx9a_balance_9449 dir: ['level1', 'level2']\n"
     ]
    }
   ],
   "source": [
    "print('> train_covidx9a_balance_9449 dir:', os.listdir(three_classes_covid_xray_balanced))"
   ]
  },
  {
   "cell_type": "markdown",
   "id": "patient-surrey",
   "metadata": {
    "papermill": {
     "duration": 0.087794,
     "end_time": "2022-01-10T02:30:37.459154",
     "exception": false,
     "start_time": "2022-01-10T02:30:37.371360",
     "status": "completed"
    },
    "tags": []
   },
   "source": [
    "## **Data Preparation**"
   ]
  },
  {
   "cell_type": "markdown",
   "id": "80db86c5-ccc2-47db-b540-7bcf47525634",
   "metadata": {
    "papermill": {
     "duration": 0.087794,
     "end_time": "2022-01-10T02:30:37.459154",
     "exception": false,
     "start_time": "2022-01-10T02:30:37.371360",
     "status": "completed"
    },
    "tags": []
   },
   "source": [
    "### Read train_df"
   ]
  },
  {
   "cell_type": "code",
   "execution_count": 4,
   "id": "f5ec1502",
   "metadata": {
    "tags": []
   },
   "outputs": [
    {
     "name": "stderr",
     "output_type": "stream",
     "text": [
      "100%|██████████| 1231/1231 [00:00<00:00, 307772.31it/s]\n",
      "100%|██████████| 1901/1901 [00:00<00:00, 380300.10it/s]\n"
     ]
    }
   ],
   "source": [
    "from tqdm import tqdm\n",
    "\n",
    "train_image_dir = three_classes_covid_xray_balanced \n",
    "img_map = []\n",
    "\n",
    "def prepareData(Dir, strat):\n",
    "    cats = [\"level1\",\"level2\"]\n",
    "    for category in cats:\n",
    "        path = os.path.join(Dir,category)\n",
    "        class_num = cats.index(category)\n",
    "        \n",
    "        for img in tqdm(os.listdir(path)):\n",
    "            img_path = os.path.join(path,img)\n",
    "            img_map.append({'path': img_path, 'label': category})\n",
    "\n",
    "prepareData(train_image_dir,'train')\n",
    "img_map_covidx9a = pd.DataFrame(img_map).sample(frac = 1, random_state=seed)"
   ]
  },
  {
   "cell_type": "code",
   "execution_count": 5,
   "id": "d413e84d",
   "metadata": {
    "tags": []
   },
   "outputs": [
    {
     "data": {
      "text/html": [
       "<div>\n",
       "<style scoped>\n",
       "    .dataframe tbody tr th:only-of-type {\n",
       "        vertical-align: middle;\n",
       "    }\n",
       "\n",
       "    .dataframe tbody tr th {\n",
       "        vertical-align: top;\n",
       "    }\n",
       "\n",
       "    .dataframe thead th {\n",
       "        text-align: right;\n",
       "    }\n",
       "</style>\n",
       "<table border=\"1\" class=\"dataframe\">\n",
       "  <thead>\n",
       "    <tr style=\"text-align: right;\">\n",
       "      <th></th>\n",
       "      <th>path</th>\n",
       "      <th>label</th>\n",
       "    </tr>\n",
       "  </thead>\n",
       "  <tbody>\n",
       "    <tr>\n",
       "      <th>2402</th>\n",
       "      <td>/Users/MCSP_Lab/Desktop/covidx-dataset/covidx-...</td>\n",
       "      <td>level2</td>\n",
       "    </tr>\n",
       "    <tr>\n",
       "      <th>418</th>\n",
       "      <td>/Users/MCSP_Lab/Desktop/covidx-dataset/covidx-...</td>\n",
       "      <td>level1</td>\n",
       "    </tr>\n",
       "    <tr>\n",
       "      <th>1516</th>\n",
       "      <td>/Users/MCSP_Lab/Desktop/covidx-dataset/covidx-...</td>\n",
       "      <td>level2</td>\n",
       "    </tr>\n",
       "    <tr>\n",
       "      <th>106</th>\n",
       "      <td>/Users/MCSP_Lab/Desktop/covidx-dataset/covidx-...</td>\n",
       "      <td>level1</td>\n",
       "    </tr>\n",
       "    <tr>\n",
       "      <th>441</th>\n",
       "      <td>/Users/MCSP_Lab/Desktop/covidx-dataset/covidx-...</td>\n",
       "      <td>level1</td>\n",
       "    </tr>\n",
       "  </tbody>\n",
       "</table>\n",
       "</div>"
      ],
      "text/plain": [
       "                                                   path   label\n",
       "2402  /Users/MCSP_Lab/Desktop/covidx-dataset/covidx-...  level2\n",
       "418   /Users/MCSP_Lab/Desktop/covidx-dataset/covidx-...  level1\n",
       "1516  /Users/MCSP_Lab/Desktop/covidx-dataset/covidx-...  level2\n",
       "106   /Users/MCSP_Lab/Desktop/covidx-dataset/covidx-...  level1\n",
       "441   /Users/MCSP_Lab/Desktop/covidx-dataset/covidx-...  level1"
      ]
     },
     "execution_count": 5,
     "metadata": {},
     "output_type": "execute_result"
    }
   ],
   "source": [
    "img_map_covidx9a.head()"
   ]
  },
  {
   "cell_type": "markdown",
   "id": "9fb903bf-5f40-4e1f-8777-0ce1b3534bb9",
   "metadata": {
    "papermill": {
     "duration": 0.087794,
     "end_time": "2022-01-10T02:30:37.459154",
     "exception": false,
     "start_time": "2022-01-10T02:30:37.371360",
     "status": "completed"
    },
    "tags": []
   },
   "source": [
    "### Read test_df"
   ]
  },
  {
   "cell_type": "code",
   "execution_count": 6,
   "id": "e5d842f9",
   "metadata": {
    "tags": []
   },
   "outputs": [
    {
     "name": "stderr",
     "output_type": "stream",
     "text": [
      "100%|██████████| 52/52 [00:00<?, ?it/s]\n",
      "100%|██████████| 98/98 [00:00<?, ?it/s]\n"
     ]
    }
   ],
   "source": [
    "from tqdm import tqdm\n",
    "\n",
    "test_image_dir = \"/Users/MCSP_Lab/Desktop/covidx-dataset/covidx-cxr2/datasets/severity_dataset/joined_RALO_Brook/test/\"\n",
    "\n",
    "img_map = []\n",
    "\n",
    "def prepareData(Dir, strat):\n",
    "    cats = [\"level1\", \"level2\"]\n",
    "    for category in cats:\n",
    "        path = os.path.join(Dir,category)\n",
    "        class_num = cats.index(category)\n",
    "        \n",
    "        for img in tqdm(os.listdir(path)):\n",
    "            img_path = os.path.join(path,img)\n",
    "            img_map.append({'path': img_path, 'label': category})\n",
    "\n",
    "prepareData(test_image_dir,'train')\n",
    "test_img_map_covidx9a = pd.DataFrame(img_map).sample(frac = 1, random_state=seed)"
   ]
  },
  {
   "cell_type": "markdown",
   "id": "alive-visitor",
   "metadata": {
    "papermill": {
     "duration": 0.056666,
     "end_time": "2022-01-10T02:30:38.768729",
     "exception": false,
     "start_time": "2022-01-10T02:30:38.712063",
     "status": "completed"
    },
    "tags": []
   },
   "source": [
    "### Images Visualization"
   ]
  },
  {
   "cell_type": "code",
   "execution_count": 7,
   "id": "cffe7671",
   "metadata": {
    "tags": []
   },
   "outputs": [
    {
     "data": {
      "text/plain": [
       "<Figure size 1440x576 with 0 Axes>"
      ]
     },
     "metadata": {},
     "output_type": "display_data"
    },
    {
     "data": {
      "text/plain": [
       "<Figure size 1440x576 with 0 Axes>"
      ]
     },
     "metadata": {},
     "output_type": "display_data"
    },
    {
     "data": {
      "text/plain": [
       "<Figure size 1440x576 with 0 Axes>"
      ]
     },
     "metadata": {},
     "output_type": "display_data"
    }
   ],
   "source": [
    "import matplotlib.pyplot as plt\n",
    "\n",
    "def print_images(samples): \n",
    "    images = samples[\"path\"].to_numpy()\n",
    "    labels = samples['label'].to_numpy()\n",
    "    \n",
    "    fig=plt.figure(figsize=(20, 8))\n",
    "    columns = 4\n",
    "    rows = 1\n",
    "    \n",
    "    for i, image_path in enumerate(images):\n",
    "        image = cv2.imread(image_path, cv2.IMREAD_COLOR)\n",
    "        \n",
    "        fig.add_subplot(rows,columns,i + 1)\n",
    "        title = '{}'.format(labels[i])\n",
    "        \n",
    "        Sample_image = cv2.resize(image, (224, 224), interpolation = cv2.INTER_CUBIC)\n",
    "        \n",
    "        plt.imshow(Sample_image, cmap='gray')\n",
    "        plt.title(title)\n",
    "        \n",
    "    plt.show()\n",
    "        \n",
    "print_images(img_map_covidx9a[img_map_covidx9a['label']==\"normal\"].iloc[0:4])\n",
    "print_images(img_map_covidx9a[img_map_covidx9a['label']==\"pneumonia\"].iloc[0:4])\n",
    "print_images(img_map_covidx9a[img_map_covidx9a['label']==\"COVID-19\"].iloc[0:4])\n",
    "\n",
    "%matplotlib inline"
   ]
  },
  {
   "cell_type": "code",
   "execution_count": 8,
   "id": "0ab60702",
   "metadata": {
    "tags": []
   },
   "outputs": [
    {
     "name": "stdout",
     "output_type": "stream",
     "text": [
      "level2    1901\n",
      "level1    1231\n",
      "dtype: int64\n"
     ]
    }
   ],
   "source": [
    "def getLabelCount(frame):\n",
    "    label_count = pd.Series(frame['label'].values.ravel()).value_counts()\n",
    "    n_classes = (label_count)\n",
    "    return label_count\n",
    "\n",
    "label_count = getLabelCount(img_map_covidx9a)\n",
    "print(label_count)"
   ]
  },
  {
   "cell_type": "code",
   "execution_count": 9,
   "id": "8ac8ce18",
   "metadata": {
    "tags": []
   },
   "outputs": [],
   "source": [
    "from sklearn.model_selection import StratifiedShuffleSplit\n",
    "\n",
    "features = img_map_covidx9a['path'].to_numpy()\n",
    "labels = img_map_covidx9a['label'].to_numpy()\n",
    "\n",
    "stratified_sample = StratifiedShuffleSplit(n_splits=2, test_size=0.2, random_state=73)"
   ]
  },
  {
   "cell_type": "code",
   "execution_count": 10,
   "id": "b304fc47",
   "metadata": {
    "tags": []
   },
   "outputs": [
    {
     "name": "stderr",
     "output_type": "stream",
     "text": [
      "C:\\Users\\MCSP_Lab\\AppData\\Local\\Temp/ipykernel_18288/2451442638.py:5: DeprecationWarning: `np.int` is a deprecated alias for the builtin `int`. To silence this warning, use `int` by itself. Doing this will not modify any behavior and is safe. When replacing `np.int`, you may wish to use e.g. `np.int64` or `np.int32` to specify the precision. If you wish to review your current use, check the release note link for additional information.\n",
      "Deprecated in NumPy 1.20; for more details and guidance: https://numpy.org/devdocs/release/1.20.0-notes.html#deprecations\n",
      "  half_size = np.int(len(val_X))\n"
     ]
    }
   ],
   "source": [
    "for train_index, val_index in stratified_sample.split(features, labels):\n",
    "    X_train, val_X = features[train_index], features[val_index]\n",
    "    y_train, val_y = labels[train_index], labels[val_index]\n",
    "    \n",
    "half_size = np.int(len(val_X))\n",
    "X_val, y_val = val_X[0:half_size], val_y[0:half_size]"
   ]
  },
  {
   "cell_type": "code",
   "execution_count": 11,
   "id": "6a0e12d6",
   "metadata": {
    "tags": []
   },
   "outputs": [],
   "source": [
    "train_map = pd.DataFrame()\n",
    "train_map['path'], train_map['label'] = X_train, y_train"
   ]
  },
  {
   "cell_type": "code",
   "execution_count": 12,
   "id": "laughing-payment",
   "metadata": {
    "papermill": {
     "duration": 0.086635,
     "end_time": "2022-01-10T02:30:43.131924",
     "exception": false,
     "start_time": "2022-01-10T02:30:43.045289",
     "status": "completed"
    },
    "tags": []
   },
   "outputs": [],
   "source": [
    "val_map = pd.DataFrame()\n",
    "val_map['path'], val_map['label'] = X_val, y_val"
   ]
  },
  {
   "cell_type": "code",
   "execution_count": 13,
   "id": "confident-connecticut",
   "metadata": {
    "papermill": {
     "duration": 0.091576,
     "end_time": "2022-01-10T02:30:43.464458",
     "exception": false,
     "start_time": "2022-01-10T02:30:43.372882",
     "status": "completed"
    },
    "tags": []
   },
   "outputs": [
    {
     "name": "stdout",
     "output_type": "stream",
     "text": [
      "> 2505 train size\n",
      "> 627 val size\n"
     ]
    }
   ],
   "source": [
    "# data summary\n",
    "print('> {} train size'.format(X_train.shape[0]))\n",
    "print('> {} val size'.format(X_val.shape[0]))"
   ]
  },
  {
   "cell_type": "code",
   "execution_count": 14,
   "id": "59cf2689",
   "metadata": {
    "tags": []
   },
   "outputs": [
    {
     "data": {
      "text/html": [
       "<div>\n",
       "<style scoped>\n",
       "    .dataframe tbody tr th:only-of-type {\n",
       "        vertical-align: middle;\n",
       "    }\n",
       "\n",
       "    .dataframe tbody tr th {\n",
       "        vertical-align: top;\n",
       "    }\n",
       "\n",
       "    .dataframe thead th {\n",
       "        text-align: right;\n",
       "    }\n",
       "</style>\n",
       "<table border=\"1\" class=\"dataframe\">\n",
       "  <thead>\n",
       "    <tr style=\"text-align: right;\">\n",
       "      <th></th>\n",
       "      <th>path</th>\n",
       "      <th>label</th>\n",
       "    </tr>\n",
       "  </thead>\n",
       "  <tbody>\n",
       "    <tr>\n",
       "      <th>0</th>\n",
       "      <td>/Users/MCSP_Lab/Desktop/covidx-dataset/covidx-...</td>\n",
       "      <td>level1</td>\n",
       "    </tr>\n",
       "    <tr>\n",
       "      <th>1</th>\n",
       "      <td>/Users/MCSP_Lab/Desktop/covidx-dataset/covidx-...</td>\n",
       "      <td>level1</td>\n",
       "    </tr>\n",
       "    <tr>\n",
       "      <th>2</th>\n",
       "      <td>/Users/MCSP_Lab/Desktop/covidx-dataset/covidx-...</td>\n",
       "      <td>level2</td>\n",
       "    </tr>\n",
       "    <tr>\n",
       "      <th>3</th>\n",
       "      <td>/Users/MCSP_Lab/Desktop/covidx-dataset/covidx-...</td>\n",
       "      <td>level1</td>\n",
       "    </tr>\n",
       "    <tr>\n",
       "      <th>4</th>\n",
       "      <td>/Users/MCSP_Lab/Desktop/covidx-dataset/covidx-...</td>\n",
       "      <td>level1</td>\n",
       "    </tr>\n",
       "  </tbody>\n",
       "</table>\n",
       "</div>"
      ],
      "text/plain": [
       "                                                path   label\n",
       "0  /Users/MCSP_Lab/Desktop/covidx-dataset/covidx-...  level1\n",
       "1  /Users/MCSP_Lab/Desktop/covidx-dataset/covidx-...  level1\n",
       "2  /Users/MCSP_Lab/Desktop/covidx-dataset/covidx-...  level2\n",
       "3  /Users/MCSP_Lab/Desktop/covidx-dataset/covidx-...  level1\n",
       "4  /Users/MCSP_Lab/Desktop/covidx-dataset/covidx-...  level1"
      ]
     },
     "execution_count": 14,
     "metadata": {},
     "output_type": "execute_result"
    }
   ],
   "source": [
    "train_map.head()"
   ]
  },
  {
   "cell_type": "markdown",
   "id": "c14e5c00-ae16-4cf2-9a71-c5be4ebaa70e",
   "metadata": {
    "papermill": {
     "duration": 0.056666,
     "end_time": "2022-01-10T02:30:38.768729",
     "exception": false,
     "start_time": "2022-01-10T02:30:38.712063",
     "status": "completed"
    },
    "tags": []
   },
   "source": [
    "### Data Augmentation"
   ]
  },
  {
   "cell_type": "code",
   "execution_count": 15,
   "id": "significant-denmark",
   "metadata": {
    "papermill": {
     "duration": 1.016592,
     "end_time": "2022-01-10T02:30:44.558383",
     "exception": false,
     "start_time": "2022-01-10T02:30:43.541791",
     "status": "completed"
    },
    "tags": []
   },
   "outputs": [
    {
     "name": "stdout",
     "output_type": "stream",
     "text": [
      "> Classes: ['level1', 'level2']\n"
     ]
    }
   ],
   "source": [
    "import cv2\n",
    "import time\n",
    "import imageio\n",
    "import imgaug.augmenters as iaa\n",
    "import imgaug as ia\n",
    "ia.seed(73)\n",
    "\n",
    "ColorCh = 3\n",
    "#IMG_SIZE = 224\n",
    "IMG_SIZE = 224\n",
    "input_shape=(IMG_SIZE, IMG_SIZE, ColorCh)\n",
    "\n",
    "classes = (\"level1\", \"level2\")\n",
    "CATEGORIES = sorted(classes)\n",
    "\n",
    "print('> Classes:',CATEGORIES)"
   ]
  },
  {
   "cell_type": "code",
   "execution_count": 16,
   "id": "developed-competition",
   "metadata": {
    "papermill": {
     "duration": 5.227193,
     "end_time": "2022-01-10T02:30:49.863188",
     "exception": false,
     "start_time": "2022-01-10T02:30:44.635995",
     "status": "completed"
    },
    "tags": []
   },
   "outputs": [],
   "source": [
    "from keras.preprocessing.image import ImageDataGenerator, img_to_array, load_img\n",
    "\n",
    "datagen = ImageDataGenerator(\n",
    "        rotation_range=40,\n",
    "        width_shift_range=0.2,\n",
    "        height_shift_range=0.2,\n",
    "        rescale=1./255,\n",
    "        shear_range=0.2,\n",
    "        zoom_range=0.2,\n",
    "        horizontal_flip=True,\n",
    "        fill_mode='nearest',\n",
    "        vertical_flip=True,\n",
    "        featurewise_center=True,\n",
    "        featurewise_std_normalization=True)"
   ]
  },
  {
   "cell_type": "code",
   "execution_count": 17,
   "id": "purple-contrast",
   "metadata": {
    "papermill": {
     "duration": 0.096467,
     "end_time": "2022-01-10T02:30:50.047243",
     "exception": false,
     "start_time": "2022-01-10T02:30:49.950776",
     "status": "completed"
    },
    "tags": []
   },
   "outputs": [],
   "source": [
    "batch_size = 8\n",
    "\n",
    "def get_generator(frame_):\n",
    "    generator = datagen.flow_from_dataframe(\n",
    "                          dataframe=frame_,\n",
    "                          x_col=\"path\",\n",
    "                          y_col=\"label\",\n",
    "                          batch_size=batch_size,\n",
    "                          seed=seed,\n",
    "                          shuffle=False,\n",
    "                          class_mode=\"sparse\",\n",
    "                          color_mode=\"rgb\",\n",
    "                          save_format=\"jpeg\",\n",
    "                          target_size=(IMG_SIZE,IMG_SIZE)             \n",
    "             )\n",
    "    \n",
    "    return generator"
   ]
  },
  {
   "cell_type": "markdown",
   "id": "8515046e-8b70-438b-9b27-6ba52b7f6a6b",
   "metadata": {
    "papermill": {
     "duration": 0.087794,
     "end_time": "2022-01-10T02:30:37.459154",
     "exception": false,
     "start_time": "2022-01-10T02:30:37.371360",
     "status": "completed"
    },
    "tags": []
   },
   "source": [
    "### Get train_generator"
   ]
  },
  {
   "cell_type": "code",
   "execution_count": 18,
   "id": "blessed-indication",
   "metadata": {
    "_kg_hide-input": false,
    "id": "TvMUmPxWM_Sw",
    "outputId": "a9628e82-66a7-4d17-a85e-eeb3044aabbf",
    "papermill": {
     "duration": 50.347403,
     "end_time": "2022-01-10T02:31:40.483062",
     "exception": false,
     "start_time": "2022-01-10T02:30:50.135659",
     "status": "completed"
    },
    "tags": []
   },
   "outputs": [
    {
     "name": "stdout",
     "output_type": "stream",
     "text": [
      "Found 2505 validated image filenames belonging to 2 classes.\n",
      "> label count for train set\n"
     ]
    },
    {
     "data": {
      "text/plain": [
       "level2    1520\n",
       "level1     985\n",
       "dtype: int64"
      ]
     },
     "execution_count": 18,
     "metadata": {},
     "output_type": "execute_result"
    }
   ],
   "source": [
    "train_df = train_map.sample(frac=1, random_state=seed)\n",
    "train_generator = get_generator(train_df)\n",
    "\n",
    "print('> label count for train set')\n",
    "getLabelCount(train_df)"
   ]
  },
  {
   "cell_type": "markdown",
   "id": "20a9cdf3-828d-420e-b247-1ce6be284d3e",
   "metadata": {
    "papermill": {
     "duration": 0.087794,
     "end_time": "2022-01-10T02:30:37.459154",
     "exception": false,
     "start_time": "2022-01-10T02:30:37.371360",
     "status": "completed"
    },
    "tags": []
   },
   "source": [
    "### Get test_generator"
   ]
  },
  {
   "cell_type": "code",
   "execution_count": 19,
   "id": "8c825c7a",
   "metadata": {
    "tags": []
   },
   "outputs": [
    {
     "name": "stdout",
     "output_type": "stream",
     "text": [
      "Found 150 validated image filenames belonging to 2 classes.\n",
      "> label count for test set\n"
     ]
    },
    {
     "data": {
      "text/plain": [
       "level2    98\n",
       "level1    52\n",
       "dtype: int64"
      ]
     },
     "execution_count": 19,
     "metadata": {},
     "output_type": "execute_result"
    }
   ],
   "source": [
    "test_generator = get_generator(test_img_map_covidx9a)\n",
    "\n",
    "print('> label count for test set')\n",
    "getLabelCount(test_img_map_covidx9a)"
   ]
  },
  {
   "cell_type": "markdown",
   "id": "a38a8c27-801a-497a-b29f-f7f84258d7ed",
   "metadata": {
    "papermill": {
     "duration": 0.087794,
     "end_time": "2022-01-10T02:30:37.459154",
     "exception": false,
     "start_time": "2022-01-10T02:30:37.371360",
     "status": "completed"
    },
    "tags": []
   },
   "source": [
    "### Get val_generator"
   ]
  },
  {
   "cell_type": "code",
   "execution_count": 20,
   "id": "monetary-wright",
   "metadata": {
    "papermill": {
     "duration": 6.129886,
     "end_time": "2022-01-10T02:31:46.690161",
     "exception": false,
     "start_time": "2022-01-10T02:31:40.560275",
     "status": "completed"
    },
    "tags": []
   },
   "outputs": [
    {
     "name": "stdout",
     "output_type": "stream",
     "text": [
      "Found 627 validated image filenames belonging to 2 classes.\n",
      "> label count for val set\n"
     ]
    },
    {
     "data": {
      "text/plain": [
       "level2    381\n",
       "level1    246\n",
       "dtype: int64"
      ]
     },
     "execution_count": 20,
     "metadata": {},
     "output_type": "execute_result"
    }
   ],
   "source": [
    "val_df = val_map.sample(frac=1, random_state=seed)\n",
    "val_generator = get_generator(val_df)\n",
    "\n",
    "print('> label count for val set')\n",
    "getLabelCount(val_df)"
   ]
  },
  {
   "cell_type": "code",
   "execution_count": 21,
   "id": "authentic-thread",
   "metadata": {
    "papermill": {
     "duration": 0.089066,
     "end_time": "2022-01-10T02:31:53.166409",
     "exception": false,
     "start_time": "2022-01-10T02:31:53.077343",
     "status": "completed"
    },
    "tags": []
   },
   "outputs": [
    {
     "name": "stdout",
     "output_type": "stream",
     "text": [
      "> input shape: (224, 224, 3)\n"
     ]
    }
   ],
   "source": [
    "print('> input shape:', input_shape)"
   ]
  },
  {
   "cell_type": "markdown",
   "id": "indirect-hands",
   "metadata": {
    "papermill": {
     "duration": 0.080353,
     "end_time": "2022-01-10T02:31:53.326910",
     "exception": false,
     "start_time": "2022-01-10T02:31:53.246557",
     "status": "completed"
    },
    "tags": []
   },
   "source": [
    "## **Model Construction**"
   ]
  },
  {
   "cell_type": "code",
   "execution_count": 22,
   "id": "universal-seventh",
   "metadata": {
    "_kg_hide-input": false,
    "id": "E8zlJ-GQYyv1",
    "papermill": {
     "duration": 0.092032,
     "end_time": "2022-01-10T02:31:53.499368",
     "exception": false,
     "start_time": "2022-01-10T02:31:53.407336",
     "status": "completed"
    },
    "tags": []
   },
   "outputs": [
    {
     "name": "stdout",
     "output_type": "stream",
     "text": [
      "> 2 classes\n"
     ]
    }
   ],
   "source": [
    "import keras\n",
    "import tensorflow as tf\n",
    "from tensorflow.keras.layers import Dense, Dropout, Activation, Flatten, Add, add\n",
    "from tensorflow.keras.layers import InputLayer, Input, Conv2D, MaxPooling2D, AveragePooling2D, GlobalAveragePooling2D, Activation, MaxPool2D, ZeroPadding2D, SeparableConv2D\n",
    "from tensorflow.keras.layers import BatchNormalization\n",
    "from tensorflow.keras.models import Model, Sequential\n",
    "from keras import regularizers\n",
    "\n",
    "kernel_regularizer = regularizers.l2(0.0001)\n",
    "\n",
    "final_activation = 'softmax'\n",
    "entropy = 'sparse_categorical_crossentropy'\n",
    "n_classes = len(CATEGORIES)\n",
    "print('> {} classes'.format(n_classes))"
   ]
  },
  {
   "cell_type": "code",
   "execution_count": 23,
   "id": "infectious-lying",
   "metadata": {
    "papermill": {
     "duration": 0.089668,
     "end_time": "2022-01-10T02:31:53.671447",
     "exception": false,
     "start_time": "2022-01-10T02:31:53.581779",
     "status": "completed"
    },
    "tags": []
   },
   "outputs": [],
   "source": [
    "def FCLayers(baseModel):\n",
    "    baseModel.trainable = True\n",
    "    headModel = baseModel.output\n",
    "    headModel = Dropout(0.5, seed=73)(headModel)\n",
    "    headModel = Dense(n_classes, activation=final_activation)(headModel)\n",
    "    \n",
    "    model = Model(inputs = baseModel.input, outputs = headModel)\n",
    "    return model"
   ]
  },
  {
   "cell_type": "markdown",
   "id": "fundamental-valley",
   "metadata": {
    "papermill": {
     "duration": 0.079373,
     "end_time": "2022-01-10T02:31:53.834805",
     "exception": false,
     "start_time": "2022-01-10T02:31:53.755432",
     "status": "completed"
    },
    "tags": []
   },
   "source": [
    "### Build Hybrid EfficienNet-DOLGNet"
   ]
  },
  {
   "cell_type": "code",
   "execution_count": 24,
   "id": "closed-password",
   "metadata": {
    "papermill": {
     "duration": 0.095438,
     "end_time": "2022-01-10T02:31:54.008714",
     "exception": false,
     "start_time": "2022-01-10T02:31:53.913276",
     "status": "completed"
    },
    "tags": []
   },
   "outputs": [
    {
     "name": "stderr",
     "output_type": "stream",
     "text": [
      "fatal: destination path 'DOLG-TensorFlow' already exists and is not an empty directory.\n"
     ]
    }
   ],
   "source": [
    "!git clone https://github.com/innat/DOLG-TensorFlow.git -q"
   ]
  },
  {
   "cell_type": "code",
   "execution_count": 25,
   "id": "usual-hampton",
   "metadata": {
    "papermill": {
     "duration": 0.178272,
     "end_time": "2022-01-10T02:31:54.284564",
     "exception": false,
     "start_time": "2022-01-10T02:31:54.106292",
     "status": "completed"
    },
    "tags": []
   },
   "outputs": [],
   "source": [
    "import sys\n",
    "sys.path.insert(0, \"DOLG-TensorFlow\")\n",
    "\n",
    "import tensorflow as tf \n",
    "from tensorflow import keras \n",
    "from tensorflow.keras import layers\n",
    "\n",
    "from layers.GeM import GeneralizedMeanPooling2D\n",
    "from layers.LocalBranch import DOLGLocalBranch\n",
    "from layers.OrtholFusion import OrthogonalFusion"
   ]
  },
  {
   "cell_type": "code",
   "execution_count": 26,
   "id": "signal-usage",
   "metadata": {
    "papermill": {
     "duration": 0.157907,
     "end_time": "2022-01-10T02:31:54.583670",
     "exception": false,
     "start_time": "2022-01-10T02:31:54.425763",
     "status": "completed"
    },
    "tags": []
   },
   "outputs": [],
   "source": [
    "base = keras.applications.EfficientNetB5(\n",
    "            include_top=False,\n",
    "            weights='imagenet',\n",
    "            input_tensor=keras.Input((IMG_SIZE, IMG_SIZE, 3))\n",
    "        )\n",
    "\n",
    "new_base = keras.Model(\n",
    "    [base.inputs], \n",
    "    [\n",
    "        base.get_layer('block5g_add').output,  # fol local branch \n",
    "        base.get_layer('block7c_add').output   # for global branch \n",
    "        ], \n",
    "    name='EfficientNet'\n",
    ")"
   ]
  },
  {
   "cell_type": "code",
   "execution_count": 27,
   "id": "personalized-circulation",
   "metadata": {
    "_kg_hide-output": true,
    "papermill": {
     "duration": 3.451166,
     "end_time": "2022-01-10T02:31:58.171915",
     "exception": false,
     "start_time": "2022-01-10T02:31:54.720749",
     "status": "completed"
    },
    "tags": []
   },
   "outputs": [],
   "source": [
    "class DOLGNet(keras.Model):\n",
    "    def __init__(self, backbone=None, num_classes=1, activation=None, **kwargs):\n",
    "        super(DOLGNet, self).__init__(name='DOLGNet', **kwargs)\n",
    "        # Number of classes \n",
    "        self.num_classes = num_classes\n",
    "        self.activation  = activation\n",
    "\n",
    "        # Base blcoks \n",
    "        self.base = backbone\n",
    "        self.base_input_shape  = self.base.input_shape[0][1]\n",
    "\n",
    "        # Top building blocks \n",
    "        self.orthogonal_fusion = OrthogonalFusion()\n",
    "        self.local_branch      = DOLGLocalBranch(IMG_SIZE=self.base_input_shape)\n",
    "        \n",
    "        # Tail blcok 1 \n",
    "        self.glob_branch_pool = keras.Sequential(\n",
    "            [\n",
    "                GeneralizedMeanPooling2D(),\n",
    "                layers.Dense(1024, activation=None)\n",
    "            ], \n",
    "            name='GlobalBranchPooling'\n",
    "        )\n",
    "        \n",
    "        # Head block\n",
    "        self.classifier = keras.Sequential(\n",
    "            [\n",
    "                layers.GlobalAveragePooling2D(name='HeadGAP'),\n",
    "                layers.Dense(self.num_classes, activation = self.activation)\n",
    "            ], \n",
    "            name='Classifiers'\n",
    "        )\n",
    "       \n",
    "    # forwarding the computation \n",
    "    def call(self, inputs, training=None, **kwargs):\n",
    "        # Get tensor from target layers \n",
    "        to_local, to_global = self.base(inputs)\n",
    "\n",
    "        # Pass the received tensor to Top building blocks \n",
    "        local_feat      = self.local_branch(to_local)\n",
    "        global_feat     = self.glob_branch_pool(to_global)\n",
    "        orthogonal_feat = self.orthogonal_fusion([local_feat, global_feat]) \n",
    "        return self.classifier(orthogonal_feat)\n",
    "\n",
    "    def build_graph(self):\n",
    "        x = keras.Input(shape=(self.base_input_shape, self.base_input_shape, 3))\n",
    "        return keras.Model(inputs=[x], outputs=self.call(x))"
   ]
  },
  {
   "cell_type": "code",
   "execution_count": 28,
   "id": "3bb424c5-5b04-48d0-8506-e715f4be2f7b",
   "metadata": {},
   "outputs": [
    {
     "name": "stdout",
     "output_type": "stream",
     "text": [
      "Model: \"model\"\n",
      "__________________________________________________________________________________________________\n",
      "Layer (type)                    Output Shape         Param #     Connected to                     \n",
      "==================================================================================================\n",
      "input_2 (InputLayer)            [(None, 224, 224, 3) 0                                            \n",
      "__________________________________________________________________________________________________\n",
      "EfficientNet (Functional)       [(None, 14, 14, 176) 27456759    input_2[0][0]                    \n",
      "__________________________________________________________________________________________________\n",
      "LocalBranch (DOLGLocalBranch)   (None, 7, 7, 1024)   5025024     EfficientNet[0][0]               \n",
      "__________________________________________________________________________________________________\n",
      "GlobalBranchPooling (Sequential (None, 1024)         525824      EfficientNet[0][1]               \n",
      "__________________________________________________________________________________________________\n",
      "OrthogonalFusion (OrthogonalFus (None, 7, 7, 2048)   0           LocalBranch[0][0]                \n",
      "                                                                 GlobalBranchPooling[0][0]        \n",
      "__________________________________________________________________________________________________\n",
      "Classifiers (Sequential)        (None, 2)            4098        OrthogonalFusion[0][0]           \n",
      "==================================================================================================\n",
      "Total params: 33,011,705\n",
      "Trainable params: 32,841,010\n",
      "Non-trainable params: 170,695\n",
      "__________________________________________________________________________________________________\n"
     ]
    }
   ],
   "source": [
    "dolg_net = DOLGNet(new_base, num_classes=2, activation='softmax')\n",
    "dolg_net.build_graph().summary()"
   ]
  },
  {
   "cell_type": "code",
   "execution_count": 29,
   "id": "e47e001c-38ca-45e6-87c6-217276573aad",
   "metadata": {},
   "outputs": [],
   "source": [
    "def load_DOLG_net():\n",
    "    model = DOLGNet(new_base, num_classes=3, activation='softmax')\n",
    "    return model"
   ]
  },
  {
   "cell_type": "markdown",
   "id": "developing-circumstances",
   "metadata": {
    "papermill": {
     "duration": 0.116396,
     "end_time": "2022-01-10T02:32:18.983803",
     "exception": false,
     "start_time": "2022-01-10T02:32:18.867407",
     "status": "completed"
    },
    "tags": []
   },
   "source": [
    "### Get metrics"
   ]
  },
  {
   "cell_type": "code",
   "execution_count": 30,
   "id": "inner-barbados",
   "metadata": {
    "_kg_hide-input": true,
    "papermill": {
     "duration": 0.128431,
     "end_time": "2022-01-10T02:32:19.230619",
     "exception": false,
     "start_time": "2022-01-10T02:32:19.102188",
     "status": "completed"
    },
    "tags": []
   },
   "outputs": [],
   "source": [
    "def getMetrics(name, type_):\n",
    "    if name == 'GoogLeNet':\n",
    "        if type_ == 'accuracy':\n",
    "            return 'output3_accuracy'\n",
    "        if type_ == 'loss':\n",
    "            return 'output3_loss'\n",
    "        if type_ == 'val_accuracy':\n",
    "            return 'val_output3_accuracy'\n",
    "        if type_ == 'val_loss':\n",
    "            return 'val_output3_loss'\n",
    "        \n",
    "    else:\n",
    "        if type_ == 'accuracy':\n",
    "            return 'accuracy'\n",
    "        if type_ == 'loss':\n",
    "            return 'loss'\n",
    "        if type_ == 'val_accuracy':\n",
    "            return 'val_accuracy'\n",
    "        if type_ == 'val_loss':\n",
    "            return 'val_loss'"
   ]
  },
  {
   "cell_type": "markdown",
   "id": "contrary-richards",
   "metadata": {
    "papermill": {
     "duration": 0.115732,
     "end_time": "2022-01-10T02:32:19.464093",
     "exception": false,
     "start_time": "2022-01-10T02:32:19.348361",
     "status": "completed"
    },
    "tags": []
   },
   "source": [
    "## **Setting Call Backs**"
   ]
  },
  {
   "cell_type": "code",
   "execution_count": 31,
   "id": "narrative-bulgarian",
   "metadata": {
    "_kg_hide-input": false,
    "id": "d65LnuRPnjQJ",
    "papermill": {
     "duration": 0.965249,
     "end_time": "2022-01-10T02:32:20.547443",
     "exception": false,
     "start_time": "2022-01-10T02:32:19.582194",
     "status": "completed"
    },
    "tags": []
   },
   "outputs": [],
   "source": [
    "from tensorflow.keras.callbacks import Callback, ModelCheckpoint, LearningRateScheduler, TensorBoard, EarlyStopping, ReduceLROnPlateau\n",
    "          \n",
    "EPOCHS = 120\n",
    "patience = 10\n",
    "\n",
    "start_lr = 0.00001\n",
    "min_lr = 0.00001\n",
    "max_lr = 0.00005\n",
    "\n",
    "rampup_epochs = 5\n",
    "sustain_epochs = 0\n",
    "exp_decay = .8\n",
    "        \n",
    "def lrfn(epoch):\n",
    "    if epoch < rampup_epochs:\n",
    "        return (max_lr - start_lr)/rampup_epochs * epoch + start_lr\n",
    "    elif epoch < rampup_epochs + sustain_epochs:\n",
    "        return max_lr\n",
    "    else:\n",
    "        return (max_lr - min_lr) * exp_decay**(epoch-rampup_epochs-sustain_epochs) + min_lr\n",
    "        \n",
    "def getCallbacks(name):\n",
    "    class myCallback(Callback):\n",
    "        def on_epoch_end(self, epoch, logs={}):\n",
    "            if ((logs.get(getMetrics(name,'accuracy'))>=0.999)):\n",
    "                print(\"\\nLimits Reached cancelling training!\")\n",
    "                self.model.stop_training = True\n",
    "\n",
    "            \n",
    "    end_callback = myCallback()\n",
    "\n",
    "    lr_plat = ReduceLROnPlateau(patience = 2, mode = 'min')\n",
    "\n",
    "    lr_callback = LearningRateScheduler(lambda epoch: lrfn(epoch), verbose=False)\n",
    "\n",
    "    early_stopping = EarlyStopping(patience = patience, monitor=getMetrics(name, 'val_loss'),\n",
    "                                 mode='min', restore_best_weights=True, \n",
    "                                 verbose = 1, min_delta = .00075)\n",
    "\n",
    "\n",
    "    checkpoint_filepath = name + '_Weights.h5'\n",
    "\n",
    "    model_checkpoints = ModelCheckpoint(filepath=checkpoint_filepath,\n",
    "                                        save_weights_only=True,\n",
    "                                        monitor=getMetrics(name, 'val_loss'),\n",
    "                                        mode='min',\n",
    "                                        verbose = 1,\n",
    "                                        save_best_only=True)\n",
    "\n",
    "    import datetime\n",
    "    log_dir=\"logs/fit/\" + '_' + datetime.datetime.now().strftime(\"%Y%m%d-%H%M%S\")  \n",
    "    tensorboard_callback = TensorBoard(log_dir = log_dir, write_graph=True, histogram_freq=1)\n",
    "\n",
    "    return [end_callback, \n",
    "             lr_callback, \n",
    "             model_checkpoints,\n",
    "             early_stopping,\n",
    "             #tensorboard_callback,\n",
    "             lr_plat\n",
    "            ]\n",
    "\n",
    "GoogLeNet_callbacks = getCallbacks('GoogLeNet')\n",
    "SwinTransformer_callbacks = getCallbacks('SwinTransformer')\n",
    "callbacks = getCallbacks('DenseNet121')\n",
    "Hybrid_callbacks = getCallbacks('HybridTransformer') \n",
    "InceptionNet_callbacks = getCallbacks('InceptionNet')\n",
    "DOLG_callbacks = getCallbacks('DOLGNet')"
   ]
  },
  {
   "cell_type": "markdown",
   "id": "inclusive-illustration",
   "metadata": {
    "id": "ji2ENz2JrMNL",
    "papermill": {
     "duration": 0.10626,
     "end_time": "2022-01-10T02:32:20.756218",
     "exception": false,
     "start_time": "2022-01-10T02:32:20.649958",
     "status": "completed"
    },
    "tags": []
   },
   "source": [
    "## **Compile Model**"
   ]
  },
  {
   "cell_type": "code",
   "execution_count": 32,
   "id": "parental-bristol",
   "metadata": {
    "id": "pIdErKBrRmGq",
    "papermill": {
     "duration": 0.117628,
     "end_time": "2022-01-10T02:32:20.972748",
     "exception": false,
     "start_time": "2022-01-10T02:32:20.855120",
     "status": "completed"
    },
    "tags": []
   },
   "outputs": [],
   "source": [
    "from tensorflow_addons import optimizers as tfa_optimizers\n",
    "\n",
    "def CompileModel(name, model):\n",
    "    if name == 'GoogLeNet':\n",
    "        model.compile(optimizer='adam', loss=entropy, metrics={\"output1\":\"accuracy\", \"output2\":\"accuracy\", \"output3\":\"accuracy\"})\n",
    "    else:\n",
    "        model.compile(optimizer='adam', loss=entropy, metrics=[\"accuracy\"])\n",
    "    return model\n",
    "\n",
    "def FitModel(model, name):\n",
    "    callbacks_ = callbacks\n",
    "    if name == 'SwinTransformer':\n",
    "        callbacks_ = SwinTransformer_callbacks\n",
    "    if name == 'GoogLeNet':\n",
    "        callbacks_ = GoogLeNet_callbacks\n",
    "    if name == 'HybridTransformer':\n",
    "        callbacks_ = Hybrid_callbacks\n",
    "    if name == 'InceptionNet':\n",
    "        callbacks_ = InceptionNet_callbacks\n",
    "    if name == 'DOLGNet':\n",
    "        callbacks_ = DOLG_callbacks\n",
    "    history = model.fit(train_generator, \n",
    "                        epochs=EPOCHS,\n",
    "                        callbacks=callbacks_,\n",
    "                        validation_data = val_generator,\n",
    "                        steps_per_epoch=(len(train_generator.labels) / 80),\n",
    "                        validation_steps=(len(val_generator.labels) / 80),\n",
    "                       )\n",
    "    \n",
    "    model.load_weights(name + '_Weights.h5')\n",
    "\n",
    "    final_accuracy_avg = np.mean(history.history[getMetrics(name, \"val_accuracy\")][-5:])\n",
    "\n",
    "    final_loss = history.history[getMetrics(name, \"val_loss\")][-1]\n",
    "  \n",
    "    group = {history: 'history', name: 'name', model: 'model', final_accuracy_avg:'acc', final_loss: 'loss'}\n",
    "\n",
    "    print('\\n')\n",
    "    print('---'*15)\n",
    "    print(name,' Model')\n",
    "    print('Total Epochs :', len(history.history[getMetrics(name, 'loss')]))    \n",
    "    print('Restoring best Weights')\n",
    "    \n",
    "    index = (len(history.history[getMetrics(name, 'loss')]) - (patience + 1))\n",
    "    print('---'*15)\n",
    "    print('Best Epoch :', index)\n",
    "    print('---'*15)\n",
    "    \n",
    "    train_accuracy = history.history[getMetrics(name, 'accuracy')][index]\n",
    "    train_loss = history.history[getMetrics(name, 'loss')][index]\n",
    "    \n",
    "    val_accuracy = history.history[getMetrics(name, 'val_accuracy')][index]\n",
    "    val_loss = history.history[getMetrics(name, 'val_loss')][index]\n",
    "\n",
    "    print('Accuracy on train:', train_accuracy,\n",
    "          '\\tLoss on train:', train_loss)\n",
    "    \n",
    "    print('Accuracy on val:', val_accuracy ,\n",
    "          '\\tLoss on val:', val_loss)\n",
    "    print('---'*15)\n",
    "\n",
    "    return model, history"
   ]
  },
  {
   "cell_type": "code",
   "execution_count": 33,
   "id": "funky-architecture",
   "metadata": {
    "_kg_hide-output": true,
    "id": "b61RKPdsAjSu",
    "outputId": "4ec3d66d-aa26-4704-d0c2-953099174f31",
    "papermill": {
     "duration": 0.110695,
     "end_time": "2022-01-10T02:32:21.183954",
     "exception": false,
     "start_time": "2022-01-10T02:32:21.073259",
     "status": "completed"
    },
    "tags": []
   },
   "outputs": [],
   "source": [
    "def BuildModel(name):\n",
    "    if name == 'GoogLeNet':\n",
    "        prepared_model = load_GoogLeNet() \n",
    "    if name == 'DenseNet121':\n",
    "        prepared_model = load_DenseNet121()\n",
    "    if name == 'SwinTransformer':\n",
    "        prepared_model = load_swin_transformer()\n",
    "    if name == 'HybridTransformer':\n",
    "        prepared_model = load_hybrid_swin_transformer()\n",
    "    if name == 'InceptionNet':\n",
    "        prepared_model = load_inception_net()\n",
    "    if name == 'DOLGNet':\n",
    "        prepared_model = load_DOLG_net()\n",
    "    compiled_model = CompileModel(name, prepared_model)\n",
    "    return compiled_model"
   ]
  },
  {
   "cell_type": "markdown",
   "id": "greatest-wound",
   "metadata": {
    "papermill": {
     "duration": 2.681453,
     "end_time": "2022-01-10T05:21:38.736389",
     "exception": false,
     "start_time": "2022-01-10T05:21:36.054936",
     "status": "completed"
    },
    "tags": []
   },
   "source": [
    "## **Training Hybrid EfficienNet-DOLGNet**"
   ]
  },
  {
   "cell_type": "code",
   "execution_count": 40,
   "id": "israeli-functionality",
   "metadata": {
    "_kg_hide-output": true,
    "papermill": {
     "duration": 8449.254713,
     "end_time": "2022-01-10T07:42:30.919782",
     "exception": false,
     "start_time": "2022-01-10T05:21:41.665069",
     "status": "completed"
    },
    "tags": []
   },
   "outputs": [
    {
     "name": "stderr",
     "output_type": "stream",
     "text": [
      "C:\\Users\\MCSP_Lab\\anaconda3\\envs\\python-3-9\\lib\\site-packages\\keras_preprocessing\\image\\image_data_generator.py:720: UserWarning: This ImageDataGenerator specifies `featurewise_center`, but it hasn't been fit on any training data. Fit it first by calling `.fit(numpy_data)`.\n",
      "  warnings.warn('This ImageDataGenerator specifies '\n",
      "C:\\Users\\MCSP_Lab\\anaconda3\\envs\\python-3-9\\lib\\site-packages\\keras_preprocessing\\image\\image_data_generator.py:728: UserWarning: This ImageDataGenerator specifies `featurewise_std_normalization`, but it hasn't been fit on any training data. Fit it first by calling `.fit(numpy_data)`.\n",
      "  warnings.warn('This ImageDataGenerator specifies '\n"
     ]
    },
    {
     "name": "stdout",
     "output_type": "stream",
     "text": [
      "Epoch 1/120\n",
      "31/31 [==============================] - 35s 439ms/step - loss: 1.3588 - accuracy: 0.4258 - val_loss: 0.8186 - val_accuracy: 0.5469\n",
      "\n",
      "Epoch 00001: val_loss did not improve from 0.45008\n",
      "Epoch 2/120\n",
      "31/31 [==============================] - 9s 302ms/step - loss: 0.7274 - accuracy: 0.5904 - val_loss: 0.6871 - val_accuracy: 0.5312\n",
      "\n",
      "Epoch 00002: val_loss did not improve from 0.45008\n",
      "Epoch 3/120\n",
      "31/31 [==============================] - 10s 334ms/step - loss: 0.7903 - accuracy: 0.5703 - val_loss: 1.0273 - val_accuracy: 0.5156\n",
      "\n",
      "Epoch 00003: val_loss did not improve from 0.45008\n",
      "Epoch 4/120\n",
      "31/31 [==============================] - 11s 333ms/step - loss: 0.6326 - accuracy: 0.6953 - val_loss: 0.7640 - val_accuracy: 0.6250\n",
      "\n",
      "Epoch 00004: val_loss did not improve from 0.45008\n",
      "Epoch 5/120\n",
      "31/31 [==============================] - 10s 308ms/step - loss: 0.6552 - accuracy: 0.6719 - val_loss: 0.7003 - val_accuracy: 0.6250\n",
      "\n",
      "Epoch 00005: val_loss did not improve from 0.45008\n",
      "Epoch 6/120\n",
      "31/31 [==============================] - 10s 314ms/step - loss: 0.7156 - accuracy: 0.6523 - val_loss: 0.4983 - val_accuracy: 0.7812\n",
      "\n",
      "Epoch 00006: val_loss did not improve from 0.45008\n",
      "Epoch 7/120\n",
      "31/31 [==============================] - 10s 307ms/step - loss: 0.8135 - accuracy: 0.6367 - val_loss: 1.0606 - val_accuracy: 0.5312\n",
      "\n",
      "Epoch 00007: val_loss did not improve from 0.45008\n",
      "Epoch 8/120\n",
      "31/31 [==============================] - 11s 340ms/step - loss: 0.6858 - accuracy: 0.6992 - val_loss: 0.7540 - val_accuracy: 0.5781\n",
      "\n",
      "Epoch 00008: val_loss did not improve from 0.45008\n",
      "Epoch 9/120\n",
      "31/31 [==============================] - 10s 323ms/step - loss: 0.6976 - accuracy: 0.6562 - val_loss: 0.6356 - val_accuracy: 0.6250\n",
      "\n",
      "Epoch 00009: val_loss did not improve from 0.45008\n",
      "Epoch 10/120\n",
      "31/31 [==============================] - 10s 311ms/step - loss: 0.6809 - accuracy: 0.6758 - val_loss: 0.8574 - val_accuracy: 0.5000\n",
      "\n",
      "Epoch 00010: val_loss did not improve from 0.45008\n",
      "Epoch 11/120\n",
      "31/31 [==============================] - 11s 336ms/step - loss: 0.6600 - accuracy: 0.6758 - val_loss: 0.6845 - val_accuracy: 0.5781\n",
      "\n",
      "Epoch 00011: val_loss did not improve from 0.45008\n",
      "Epoch 12/120\n",
      "31/31 [==============================] - 10s 318ms/step - loss: 0.7230 - accuracy: 0.6367 - val_loss: 0.6762 - val_accuracy: 0.5625\n",
      "\n",
      "Epoch 00012: val_loss did not improve from 0.45008\n",
      "Epoch 13/120\n",
      "31/31 [==============================] - 10s 327ms/step - loss: 0.5510 - accuracy: 0.7344 - val_loss: 0.5768 - val_accuracy: 0.6562\n",
      "\n",
      "Epoch 00013: val_loss did not improve from 0.45008\n",
      "Epoch 14/120\n",
      "31/31 [==============================] - 10s 327ms/step - loss: 0.5630 - accuracy: 0.6707 - val_loss: 0.5912 - val_accuracy: 0.6875\n",
      "\n",
      "Epoch 00014: val_loss did not improve from 0.45008\n",
      "Epoch 15/120\n",
      "31/31 [==============================] - 10s 319ms/step - loss: 0.6810 - accuracy: 0.6836 - val_loss: 0.7247 - val_accuracy: 0.6406\n",
      "\n",
      "Epoch 00015: val_loss did not improve from 0.45008\n",
      "Epoch 16/120\n",
      "31/31 [==============================] - 10s 332ms/step - loss: 0.5958 - accuracy: 0.7305 - val_loss: 0.7142 - val_accuracy: 0.6250\n",
      "\n",
      "Epoch 00016: val_loss did not improve from 0.45008\n",
      "Restoring model weights from the end of the best epoch.\n",
      "Epoch 00016: early stopping\n",
      "\n",
      "\n",
      "---------------------------------------------\n",
      "DOLGNet  Model\n",
      "Total Epochs : 16\n",
      "Restoring best Weights\n",
      "---------------------------------------------\n",
      "Best Epoch : 5\n",
      "---------------------------------------------\n",
      "Accuracy on train: 0.65234375 \tLoss on train: 0.715552031993866\n",
      "Accuracy on val: 0.78125 \tLoss on val: 0.4983132779598236\n",
      "---------------------------------------------\n"
     ]
    }
   ],
   "source": [
    "dolg_compiled_model = BuildModel('DOLGNet')\n",
    "dolg_model, dolg_history = FitModel(dolg_compiled_model, 'DOLGNet')"
   ]
  },
  {
   "cell_type": "markdown",
   "id": "civil-interface",
   "metadata": {
    "papermill": {
     "duration": 6.980985,
     "end_time": "2022-01-10T09:41:33.410641",
     "exception": false,
     "start_time": "2022-01-10T09:41:26.429656",
     "status": "completed"
    },
    "tags": []
   },
   "source": [
    "## **Model Evaluation on the TestSet**"
   ]
  },
  {
   "cell_type": "code",
   "execution_count": 41,
   "id": "union-helmet",
   "metadata": {
    "papermill": {
     "duration": 7.389008,
     "end_time": "2022-01-10T09:41:47.912191",
     "exception": false,
     "start_time": "2022-01-10T09:41:40.523183",
     "status": "completed"
    },
    "tags": []
   },
   "outputs": [],
   "source": [
    "%matplotlib inline\n",
    "def print_graph(item, index, history):\n",
    "    plt.figure()\n",
    "    train_values = history.history[item][0:index]\n",
    "    plt.plot(train_values)\n",
    "    test_values = history.history['val_' + item][0:index]\n",
    "    plt.plot(test_values)\n",
    "    plt.legend(['training','validation'])\n",
    "    plt.title('Training and validation '+ item)\n",
    "    plt.xlabel('epoch')\n",
    "    plt.show()\n",
    "    plot = '{}.png'.format(item)\n",
    "    plt.savefig(plot)"
   ]
  },
  {
   "cell_type": "code",
   "execution_count": 42,
   "id": "arctic-official",
   "metadata": {
    "papermill": {
     "duration": 7.255881,
     "end_time": "2022-01-10T09:42:02.195590",
     "exception": false,
     "start_time": "2022-01-10T09:41:54.939709",
     "status": "completed"
    },
    "tags": []
   },
   "outputs": [],
   "source": [
    "import seaborn as sns\n",
    "from sklearn import metrics\n",
    "from sklearn.metrics import roc_curve, roc_auc_score, plot_roc_curve, accuracy_score, classification_report, confusion_matrix\n",
    "\n",
    "def test_set_results(pred_value, n=1):    \n",
    "    y_test = test_generator.labels\n",
    "    X_test, _ = test_generator.next()\n",
    "    \n",
    "    corr_pred = metrics.confusion_matrix(y_test, pred_value)\n",
    "    fig=plt.figure(figsize=(10, 8))\n",
    "    ax = plt.axes()\n",
    "    \n",
    "    sns.heatmap(corr_pred,annot=True, fmt=\"d\",cmap=\"Purples\", xticklabels=CATEGORIES, yticklabels=CATEGORIES)\n",
    "    ax.set_title('Dense Output {}'.format(n))\n",
    "    plt.show()\n",
    "    \n",
    "    n_correct = np.int(corr_pred[0][0] + corr_pred[1][1]) # + corr_pred[2][2]\n",
    "    print('...'*15)\n",
    "\n",
    "    print('> Correct Predictions:', n_correct)\n",
    "    \n",
    "    n_wrongs = len(y_test) - n_correct\n",
    "    print('> Wrong Predictions:', n_wrongs)\n",
    "    print('...'*15)\n",
    "    \n",
    "    print(classification_report(test_generator.labels, pred_value, target_names=CATEGORIES))"
   ]
  },
  {
   "cell_type": "code",
   "execution_count": 43,
   "id": "defensive-neighbor",
   "metadata": {
    "papermill": {
     "duration": 7.812616,
     "end_time": "2022-01-10T09:42:16.761577",
     "exception": false,
     "start_time": "2022-01-10T09:42:08.948961",
     "status": "completed"
    },
    "tags": []
   },
   "outputs": [],
   "source": [
    "def printResults(name, model):\n",
    "    predictions = model.predict(test_generator, verbose=1)\n",
    "    preds = np.argmax(predictions, axis=1)\n",
    "    test_set_results(preds)"
   ]
  },
  {
   "cell_type": "code",
   "execution_count": 44,
   "id": "activated-string",
   "metadata": {
    "papermill": {
     "duration": 6.764079,
     "end_time": "2022-01-10T09:42:30.604025",
     "exception": false,
     "start_time": "2022-01-10T09:42:23.839946",
     "status": "completed"
    },
    "tags": []
   },
   "outputs": [],
   "source": [
    "def model_summary(model, history, name):\n",
    "    index = (len(history.history[getMetrics(name, 'loss')]) - (patience + 1))\n",
    "    print('Best Epochs: ', index)\n",
    "    \n",
    "    if name == 'GoogLeNet':\n",
    "        results = model.evaluate(test_generator, verbose=1)\n",
    "        loss, output3_loss, output1_loss, output2_loss, output3_accuracy, output1_accuracy, output2_accuracy = results\n",
    "        \n",
    "        for i in range(3):\n",
    "            n = i + 1\n",
    "            out_layer = 'Output Layer {}'.format(n)\n",
    "            \n",
    "            if n == 1:\n",
    "                test_accuracy = output1_accuracy\n",
    "                test_loss = output1_loss\n",
    "\n",
    "            if n == 2:\n",
    "                test_accuracy = output2_accuracy\n",
    "                test_loss = output2_loss\n",
    "                \n",
    "            if n == 3:\n",
    "                test_accuracy = output3_accuracy\n",
    "                test_loss = output3_loss\n",
    "                \n",
    "                \n",
    "            output_name = 'output{}_'.format(n)\n",
    "            train_accuracy, train_loss = history.history[output_name + 'accuracy'][index], history.history[output_name + 'loss'][index]\n",
    "            \n",
    "  \n",
    "            print_graph(output_name + 'loss', index, history)\n",
    "            print_graph(output_name + 'accuracy', index, history)\n",
    "        \n",
    "            print('---'*15)  \n",
    "            print('GoogLeNet Dense output {}:'.format(n))\n",
    "            \n",
    "            print('> Accuracy on train :'.format(out_layer), train_accuracy, \n",
    "                  '\\tLoss on train:',train_loss)\n",
    "        \n",
    "            print('> Accuracy on test :'.format(out_layer), test_accuracy,\n",
    "                  '\\tLoss on test:',test_loss)\n",
    "            \n",
    "            print('---'*15)\n",
    "            print('> predicting test')\n",
    "            print('---'*15)\n",
    "            \n",
    "            predictions = model.predict(test_generator, verbose=1)\n",
    "            preds = np.argmax(predictions[i], axis=1)\n",
    "            test_set_results(preds, n)\n",
    "                \n",
    "    else:\n",
    "        test_loss, test_accuracy = model.evaluate(test_generator, verbose=1)\n",
    "        \n",
    "        train_accuracy = history.history['accuracy'][index]\n",
    "        train_loss = history.history['loss'][index]\n",
    "\n",
    "        print_graph('loss', index, history)\n",
    "        print_graph('accuracy', index, history)\n",
    "        \n",
    "        print('---'*15) \n",
    "        print(name)\n",
    "        print('> Accuracy on train:',train_accuracy, \n",
    "              '\\tLoss on train:',train_loss)\n",
    "        \n",
    "        print('> Accuracy on test:',test_accuracy,\n",
    "              '\\tLoss on test:',test_loss)\n",
    "        \n",
    "        print('---'*15)\n",
    "        print('> predicting test')\n",
    "        print('---'*15)\n",
    "        \n",
    "        printResults(name, model)"
   ]
  },
  {
   "cell_type": "markdown",
   "id": "overhead-gentleman",
   "metadata": {
    "papermill": {
     "duration": 7.051616,
     "end_time": "2022-01-10T09:42:44.726734",
     "exception": false,
     "start_time": "2022-01-10T09:42:37.675118",
     "status": "completed"
    },
    "tags": []
   },
   "source": [
    "## **Hybrid EfficientNet-DOLG Results**"
   ]
  },
  {
   "cell_type": "code",
   "execution_count": 45,
   "id": "pressed-compromise",
   "metadata": {
    "papermill": {
     "duration": 529.910532,
     "end_time": "2022-01-10T09:51:42.626098",
     "exception": false,
     "start_time": "2022-01-10T09:42:52.715566",
     "status": "completed"
    },
    "tags": []
   },
   "outputs": [
    {
     "name": "stdout",
     "output_type": "stream",
     "text": [
      "Best Epochs:  5\n",
      "19/19 [==============================] - 12s 630ms/step - loss: 0.5089 - accuracy: 0.7400\n"
     ]
    },
    {
     "data": {
      "image/png": "[encoded data removed]",
      "text/plain": [
       "<Figure size 432x288 with 1 Axes>"
      ]
     },
     "metadata": {
      "needs_background": "light"
     },
     "output_type": "display_data"
    },
    {
     "data": {
      "text/plain": [
       "<Figure size 432x288 with 0 Axes>"
      ]
     },
     "metadata": {},
     "output_type": "display_data"
    },
    {
     "data": {
      "image/png": "[encoded data removed]",
      "text/plain": [
       "<Figure size 432x288 with 1 Axes>"
      ]
     },
     "metadata": {
      "needs_background": "light"
     },
     "output_type": "display_data"
    },
    {
     "name": "stdout",
     "output_type": "stream",
     "text": [
      "---------------------------------------------\n",
      "DOLGNet\n",
      "> Accuracy on train: 0.65234375 \tLoss on train: 0.715552031993866\n",
      "> Accuracy on test: 0.7400000095367432 \tLoss on test: 0.5088742971420288\n",
      "---------------------------------------------\n",
      "> predicting test\n",
      "---------------------------------------------\n",
      "19/19 [==============================] - 17s 637ms/step\n"
     ]
    },
    {
     "data": {
      "text/plain": [
       "<Figure size 432x288 with 0 Axes>"
      ]
     },
     "metadata": {},
     "output_type": "display_data"
    },
    {
     "data": {
      "image/png": "[encoded data removed]",
      "text/plain": [
       "<Figure size 720x576 with 2 Axes>"
      ]
     },
     "metadata": {
      "needs_background": "light"
     },
     "output_type": "display_data"
    },
    {
     "name": "stdout",
     "output_type": "stream",
     "text": [
      ".............................................\n",
      "> Correct Predictions: 110\n",
      "> Wrong Predictions: 40\n",
      ".............................................\n",
      "              precision    recall  f1-score   support\n",
      "\n",
      "      level1       0.67      0.46      0.55        52\n",
      "      level2       0.75      0.88      0.81        98\n",
      "\n",
      "    accuracy                           0.73       150\n",
      "   macro avg       0.71      0.67      0.68       150\n",
      "weighted avg       0.72      0.73      0.72       150\n",
      "\n"
     ]
    },
    {
     "name": "stderr",
     "output_type": "stream",
     "text": [
      "C:\\Users\\MCSP_Lab\\AppData\\Local\\Temp/ipykernel_18288/3032867848.py:17: DeprecationWarning: `np.int` is a deprecated alias for the builtin `int`. To silence this warning, use `int` by itself. Doing this will not modify any behavior and is safe. When replacing `np.int`, you may wish to use e.g. `np.int64` or `np.int32` to specify the precision. If you wish to review your current use, check the release note link for additional information.\n",
      "Deprecated in NumPy 1.20; for more details and guidance: https://numpy.org/devdocs/release/1.20.0-notes.html#deprecations\n",
      "  n_correct = np.int(corr_pred[0][0] + corr_pred[1][1]) # + corr_pred[2][2]\n"
     ]
    }
   ],
   "source": [
    "model_summary(dolg_model, dolg_history, 'DOLGNet')"
   ]
  },
  {
   "cell_type": "code",
   "execution_count": null,
   "id": "83ed76de-aa0f-46a1-a20e-aa832a5f37b3",
   "metadata": {},
   "outputs": [],
   "source": []
  }
 ],
 "metadata": {
  "kernelspec": {
   "display_name": "Python 3",
   "language": "python",
   "name": "python3"
  },
  "language_info": {
   "codemirror_mode": {
    "name": "ipython",
    "version": 3
   },
   "file_extension": ".py",
   "mimetype": "text/x-python",
   "name": "python",
   "nbconvert_exporter": "python",
   "pygments_lexer": "ipython3",
   "version": "3.9.7"
  },
  "papermill": {
   "default_parameters": {},
   "duration": 27079.201293,
   "end_time": "2022-01-10T10:01:46.021143",
   "environment_variables": {},
   "exception": true,
   "input_path": "__notebook__.ipynb",
   "output_path": "__notebook__.ipynb",
   "parameters": {},
   "start_time": "2022-01-10T02:30:26.819850",
   "version": "2.3.3"
  }
 },
 "nbformat": 4,
 "nbformat_minor": 5
}
